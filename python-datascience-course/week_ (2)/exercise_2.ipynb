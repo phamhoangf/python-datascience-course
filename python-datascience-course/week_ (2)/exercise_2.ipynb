{
 "cells": [
  {
   "attachments": {},
   "cell_type": "markdown",
   "metadata": {},
   "source": [
    "# Object oriented programming\n",
    "write a class that represents a person with a name and age. The class should have a method that returns the name and age of the person. Create an instance of the class and print the name and age of the person. it should has the following functions:\n",
    "- \\_\\_init\\_\\_(self, first_name, last_name, age) - set the name and age of the person\n",
    "- get_full_name(self) - return the full name of the person\n",
    "\n",
    "Please note that the class should be called Person should be in the package person, and the file should be called person.py"
   ]
  },
  {
   "cell_type": "code",
   "execution_count": null,
   "metadata": {},
   "outputs": [],
   "source": [
    "import os\n",
    "from person import Person\n",
    "\n",
    "# check if Person is actually implemented on the person/person.py file\n",
    "# if not, you will get an error\n",
    "assert os.path.exists(\"person/person.py\"), \"You need to implement the Person class on the person/person.py file\"\n",
    "\n",
    "\n",
    "person_1 = Person(first_name = \"John\", last_name = \"Doe\", age =35)\n",
    "print(person_1)"
   ]
  },
  {
   "cell_type": "code",
   "execution_count": null,
   "metadata": {},
   "outputs": [],
   "source": [
    "assert person_1.first_name == \"John\"\n",
    "assert person_1.last_name == \"Doe\"\n",
    "assert person_1.age == 35\n",
    "assert person_1.get_full_name() == \"John Doe\"\n",
    "assert person_1.__str__() == \"John Doe is 35 years old\""
   ]
  },
  {
   "attachments": {},
   "cell_type": "markdown",
   "metadata": {},
   "source": [
    "# Inheritance\n",
    "Write a second class that represents a student. The student class should inherit from the person class. The student class should have a method that returns the name and age of the student. Create an instance of the class and print the name and age of the student. it should has the following functions:\n",
    "- \\_\\_init\\_\\_(self, first_name, last_name, age, student_id) - set the name, age and student id of the student\n",
    "- print_student_id(self) - print the student id of the student\n",
    "- add_course(self, course) - add a course to the student"
   ]
  },
  {
   "cell_type": "code",
   "execution_count": null,
   "metadata": {},
   "outputs": [],
   "source": [
    "from person import Student\n",
    "\n",
    "student = Student(first_name = \"John\", last_name = \"Doe\", age = 35, student_id = 12345)\n",
    "student.print_student_id()\n",
    "print(student)"
   ]
  },
  {
   "cell_type": "code",
   "execution_count": null,
   "metadata": {},
   "outputs": [],
   "source": [
    "assert student.__str__() == \"John Doe is 35 years old and has student id 12345\"\n",
    "assert student.get_student_id() == 12345\n",
    "assert student.get_full_name() == \"John Doe\""
   ]
  },
  {
   "attachments": {},
   "cell_type": "markdown",
   "metadata": {},
   "source": [
    "## Mixins and multiple inheritance\n",
    "Create a mixin-based structure in Python with a Person class, a StudentMixin mixin, and a TeacherMixin mixin. We'll then create a Student class that inherits from Person and StudentMixin, and a Teacher class that inherits from Person and TeacherMixin. Each we have three classes: Person, StudentMixin and TeacherMixin. We'll then create a Student class that inherits from Person and StudentMixin, and a Teacher class that inherits from Person and TeacherMixin. Each of these classes will have a method that returns the name and age of the person. Create an instance of the class and print the name and age of the person. \n",
    "\n",
    "The Person class should have the following functions:\n",
    "- \\_\\_init\\_\\_(self, name, age) - set the name and age of the person\n",
    "- introduce(self) - should introduce the person by printing the name and age, eg. \"My name is John Doe and I am 30 years old\"\n",
    "\n",
    "The StudentMixin class should have the following functions:\n",
    "- \\_\\_init\\_\\_(self, school) - set the school of the student\n",
    "- study(self) - should print the name of the school, eg. \"I am studying at the University of Amsterdam\"\n",
    "\n",
    "The TeacherMixin class should have the following functions:\n",
    "- \\_\\_init\\_\\_(self, subject) - set the subject of the teacher\n",
    "- teach(self) - should print the subject of the teacher, eg. \"I am teaching Python\"\n"
   ]
  },
  {
   "cell_type": "code",
   "execution_count": null,
   "metadata": {},
   "outputs": [],
   "source": [
    "from person_mixins import Person, StudentMixin, TeacherMixin\n",
    "# you should seperate each class into a different file, following code is just for testing purpose\n",
    "from person_mixins.person import Person\n",
    "from person_mixins.student import StudentMixin\n",
    "from person_mixins.teacher import TeacherMixin\n",
    "\n",
    "# now you can use the Person, StudentMixin, TeacherMixin classes to implement the Student and Teacher classes\n",
    "class Student(Person, StudentMixin):\n",
    "    # TODO: Implement the Student class\n",
    "\n",
    "class Teacher(Person, TeacherMixin):\n",
    "    # TODO: Implement the Student class\n",
    "\n",
    "# Example usage\n",
    "student = Student(\"Alice\", 20, \"Example University\")\n",
    "student.introduce()\n",
    "student.study()\n",
    "\n",
    "teacher = Teacher(\"Bob\", 35, \"Mathematics\")\n",
    "teacher.introduce()\n",
    "teacher.teach()   "
   ]
  },
  {
   "cell_type": "markdown",
   "metadata": {},
   "source": []
  }
 ],
 "metadata": {
  "kernelspec": {
   "display_name": "Python 3",
   "language": "python",
   "name": "python3"
  },
  "language_info": {
   "codemirror_mode": {
    "name": "ipython",
    "version": 3
   },
   "file_extension": ".py",
   "mimetype": "text/x-python",
   "name": "python",
   "nbconvert_exporter": "python",
   "pygments_lexer": "ipython3",
   "version": "3.8.5"
  }
 },
 "nbformat": 4,
 "nbformat_minor": 4
}
